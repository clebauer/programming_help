{
 "cells": [
  {
   "cell_type": "code",
   "execution_count": 77,
   "metadata": {},
   "outputs": [
    {
     "name": "stdout",
     "output_type": "stream",
     "text": [
      "Enter a word: scrappy\n",
      "scrappy: appyscray\n"
     ]
    }
   ],
   "source": [
    "original = raw_input('Enter a word: ')\n",
    "\n",
    "if len(original) > 0 and original.isalpha():\n",
    "    pyg = 'ay'\n",
    "    \n",
    "    vowels = ['a', 'e', 'i', 'o', 'u', 'y']\n",
    "    first_vowel_idx = [(x in vowels) for x in original].index(True)\n",
    "    word = original.lower()\n",
    "    left_word = word[:first_vowel_idx]\n",
    "    right_word = word[first_vowel_idx:]\n",
    "    pyg_latin = right_word + left_word + pyg\n",
    "    print original + ': ' + pyg_latin\n",
    "else:\n",
    "    print 'Try a real word this time!'"
   ]
  },
  {
   "cell_type": "code",
   "execution_count": 62,
   "metadata": {
    "collapsed": true
   },
   "outputs": [],
   "source": [
    "my_word = 'champ'"
   ]
  },
  {
   "cell_type": "code",
   "execution_count": 63,
   "metadata": {},
   "outputs": [
    {
     "data": {
      "text/plain": [
       "[False, False, True, False, False]"
      ]
     },
     "execution_count": 63,
     "metadata": {},
     "output_type": "execute_result"
    }
   ],
   "source": [
    "# For every character/element in the original word, we should check whether that\n",
    "# character, x, exists in the list 'vowels'. This is called list comprehension\n",
    "# and is super weird and super cool. TLDR, a new list is created and for each\n",
    "# letter in the word you have, a new value is stored based on the condition you\n",
    "# put in the list comprehension. In this case, it's \"(x in vowels)\" or in English,\n",
    "# \"does this letter exist in the list named 'vowels'?\". You can see below that when\n",
    "# we run this code, we get a list that matches where the vowels are in the word,\n",
    "# with True being where the vowels are and False being where the consonants are!\n",
    "[(x in vowels) for x in my_word]"
   ]
  },
  {
   "cell_type": "code",
   "execution_count": 64,
   "metadata": {},
   "outputs": [
    {
     "data": {
      "text/plain": [
       "2"
      ]
     },
     "execution_count": 64,
     "metadata": {},
     "output_type": "execute_result"
    }
   ],
   "source": [
    "# Then, it seems appending '.index(True)' at the end will give you the index in the\n",
    "# list of the FIRST TIME you run across a True value, so....\n",
    "[(x in vowels) for x in my_word].index(True)"
   ]
  },
  {
   "cell_type": "code",
   "execution_count": null,
   "metadata": {
    "collapsed": true
   },
   "outputs": [],
   "source": [
    "#saving this value to a variable so I can use it in a minute\n",
    "first_vowel_idx = [(x in vowels) for x in my_word].index(True) # 2"
   ]
  },
  {
   "cell_type": "code",
   "execution_count": 69,
   "metadata": {},
   "outputs": [
    {
     "data": {
      "text/plain": [
       "'ch'"
      ]
     },
     "execution_count": 69,
     "metadata": {},
     "output_type": "execute_result"
    }
   ],
   "source": [
    "# Getting this value of 1 is super interesting because it means our word's first vowel\n",
    "# exists at the 2nd position, so with my word being 'champ', it's at the 'a'! Cool!\n",
    "# Now what do we do with that... OH. We can substring the full word at that index!\n",
    "my_word[:first_vowel_idx] #this grabs every letter up to, but NOT INCLUDING that element, so 'ch'"
   ]
  },
  {
   "cell_type": "code",
   "execution_count": 70,
   "metadata": {},
   "outputs": [
    {
     "data": {
      "text/plain": [
       "'amp'"
      ]
     },
     "execution_count": 70,
     "metadata": {},
     "output_type": "execute_result"
    }
   ],
   "source": [
    "my_word[first_vowel_idx:] #this grabs every letter after, AND INCLUDING that element."
   ]
  },
  {
   "cell_type": "code",
   "execution_count": 71,
   "metadata": {
    "collapsed": true
   },
   "outputs": [],
   "source": [
    "#saving these values to variable so I can use them in a minute\n",
    "left_part = my_word[:first_vowel_idx] \n",
    "right_part = my_word[first_vowel_idx:]"
   ]
  },
  {
   "cell_type": "code",
   "execution_count": 78,
   "metadata": {},
   "outputs": [
    {
     "data": {
      "text/plain": [
       "'ampchay'"
      ]
     },
     "execution_count": 78,
     "metadata": {},
     "output_type": "execute_result"
    }
   ],
   "source": [
    "# what happens when we combine them?\n",
    "right_part + left_part + 'ay'"
   ]
  }
 ],
 "metadata": {
  "kernelspec": {
   "display_name": "Python 2",
   "language": "python",
   "name": "python2"
  },
  "language_info": {
   "codemirror_mode": {
    "name": "ipython",
    "version": 2
   },
   "file_extension": ".py",
   "mimetype": "text/x-python",
   "name": "python",
   "nbconvert_exporter": "python",
   "pygments_lexer": "ipython2",
   "version": "2.7.12"
  }
 },
 "nbformat": 4,
 "nbformat_minor": 2
}
